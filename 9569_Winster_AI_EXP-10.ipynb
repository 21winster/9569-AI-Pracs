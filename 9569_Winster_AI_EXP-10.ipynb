{
 "cells": [
  {
   "cell_type": "code",
   "execution_count": null,
   "id": "70e96cc4-aca3-4e38-b041-3f46e9b64a7c",
   "metadata": {},
   "outputs": [],
   "source": [
    "EXPERIMENT NO 10"
   ]
  },
  {
   "cell_type": "code",
   "execution_count": null,
   "id": "ffc13044-d516-4168-93c8-2cd23773cc35",
   "metadata": {},
   "outputs": [],
   "source": [
    "Name: Winster Pereira\n",
    "Class : TE COMPS - A\n",
    "Roll No : 9569"
   ]
  },
  {
   "cell_type": "code",
   "execution_count": null,
   "id": "0e24338c-7bad-4f30-9d33-1d7fd77c8523",
   "metadata": {},
   "outputs": [],
   "source": [
    "Travelling Salesman Problem"
   ]
  },
  {
   "cell_type": "code",
   "execution_count": 1,
   "id": "0bcfe5e8-dd85-4624-914d-f29ca77d3ce7",
   "metadata": {},
   "outputs": [
    {
     "name": "stdin",
     "output_type": "stream",
     "text": [
      "Enter the number of cities:  6\n",
      "Enter coordinates for city 1 (format: x y):  1 4\n",
      "Enter coordinates for city 2 (format: x y):  4 6\n",
      "Enter coordinates for city 3 (format: x y):  6 9\n",
      "Enter coordinates for city 4 (format: x y):  2 5\n",
      "Enter coordinates for city 5 (format: x y):  5 6\n",
      "Enter coordinates for city 6 (format: x y):  3 9\n"
     ]
    },
    {
     "name": "stdout",
     "output_type": "stream",
     "text": [
      "Best Route: [4, 2, 5, 3, 0, 1]\n",
      "Total Distance: 16.305148123623127\n"
     ]
    }
   ],
   "source": [
    "import numpy as np\n",
    "import random\n",
    "\n",
    "# Function to calculate the distance between two cities\n",
    "def distance(city1, city2):\n",
    "    return np.linalg.norm(city1 - city2)\n",
    "\n",
    "# Function to calculate the total distance of a route\n",
    "def total_distance(route, cities):\n",
    "    total = 0\n",
    "    for i in range(len(route) - 1):\n",
    "        total += distance(cities[route[i]], cities[route[i+1]])\n",
    "    total += distance(cities[route[-1]], cities[route[0]])  # Return to the starting city\n",
    "    return total\n",
    "\n",
    "# Function to initialize the population\n",
    "def initialize_population(num_routes, num_cities):\n",
    "    population = []\n",
    "    for _ in range(num_routes):\n",
    "        route = list(range(num_cities))\n",
    "        random.shuffle(route)\n",
    "        population.append(route)\n",
    "    return population\n",
    "\n",
    "# Function to perform tournament selection\n",
    "def tournament_selection(population, fitness_values, tournament_size):\n",
    "    selected_parents = []\n",
    "    for _ in range(len(population)):\n",
    "        tournament_indices = random.sample(range(len(population)), tournament_size)\n",
    "        tournament_fitness = [fitness_values[i] for i in tournament_indices]\n",
    "        winner_index = tournament_indices[np.argmin(tournament_fitness)]\n",
    "        selected_parents.append(population[winner_index])\n",
    "    return selected_parents\n",
    "\n",
    "# Function to perform ordered crossover\n",
    "def ordered_crossover(parent1, parent2):\n",
    "    size = len(parent1)\n",
    "    start = random.randint(0, size - 1)\n",
    "    end = random.randint(start + 1, size)\n",
    "    offspring = [None] * size\n",
    "    for i in range(start, end):\n",
    "        offspring[i] = parent1[i]\n",
    "    remaining = [item for item in parent2 if item not in offspring]\n",
    "    j = 0\n",
    "    for i in range(size):\n",
    "        if offspring[i] is None:\n",
    "            offspring[i] = remaining[j]\n",
    "            j += 1\n",
    "    return offspring\n",
    "\n",
    "# Function to perform mutation\n",
    "def mutate(route, mutation_rate):\n",
    "    for i in range(len(route)):\n",
    "        if random.random() < mutation_rate:\n",
    "            j = random.randint(0, len(route) - 1)\n",
    "            route[i], route[j] = route[j], route[i]\n",
    "    return route\n",
    "\n",
    "# Function to replace the current population with the offspring\n",
    "def replace(population, offspring, fitness_values):\n",
    "    combined_population = list(zip(population, fitness_values))\n",
    "    combined_population.sort(key=lambda x: x[1])\n",
    "    combined_population[:len(offspring)] = zip(offspring, [total_distance(route, cities) for route in offspring])\n",
    "    combined_population.sort(key=lambda x: x[1])\n",
    "    new_population, _ = zip(*combined_population)\n",
    "    return new_population\n",
    "\n",
    "# Main genetic algorithm function\n",
    "def genetic_algorithm_TSP(cities, num_routes, max_generations, tournament_size, mutation_rate):\n",
    "    num_cities = len(cities)\n",
    "    population = initialize_population(num_routes, num_cities)\n",
    "    for generation in range(max_generations):\n",
    "        fitness_values = [total_distance(route, cities) for route in population]\n",
    "        selected_parents = tournament_selection(population, fitness_values, tournament_size)\n",
    "        offspring = [ordered_crossover(parent1, parent2) for parent1, parent2 in zip(selected_parents[::2], selected_parents[1::2])]\n",
    "        offspring = [mutate(route, mutation_rate) for route in offspring]\n",
    "        population = replace(population, offspring, fitness_values)\n",
    "    best_route = population[0]\n",
    "    return best_route\n",
    "\n",
    "# Input from the user\n",
    "def get_city_coordinates(num_cities):\n",
    "    cities = []\n",
    "    for i in range(num_cities):\n",
    "        x, y = map(int, input(f\"Enter coordinates for city {i+1} (format: x y): \").split())\n",
    "        cities.append([x, y])\n",
    "    return np.array(cities)\n",
    "\n",
    "# Example usage\n",
    "if __name__ == \"__main__\":\n",
    "    # Input number of cities from the user\n",
    "    num_cities = int(input(\"Enter the number of cities: \"))\n",
    "    cities = get_city_coordinates(num_cities)\n",
    "\n",
    "    # Parameters\n",
    "    num_routes = 50\n",
    "    max_generations = 1000\n",
    "    tournament_size = 3\n",
    "    mutation_rate = 0.01\n",
    "\n",
    "    # Run genetic algorithm\n",
    "    best_route = genetic_algorithm_TSP(cities, num_routes, max_generations, tournament_size, mutation_rate)\n",
    "    print(\"Best Route:\", best_route)\n",
    "    print(\"Total Distance:\", total_distance(best_route, cities))"
   ]
  }
 ],
 "metadata": {
  "kernelspec": {
   "display_name": "Python 3 (ipykernel)",
   "language": "python",
   "name": "python3"
  },
  "language_info": {
   "codemirror_mode": {
    "name": "ipython",
    "version": 3
   },
   "file_extension": ".py",
   "mimetype": "text/x-python",
   "name": "python",
   "nbconvert_exporter": "python",
   "pygments_lexer": "ipython3",
   "version": "3.10.11"
  }
 },
 "nbformat": 4,
 "nbformat_minor": 5
}
