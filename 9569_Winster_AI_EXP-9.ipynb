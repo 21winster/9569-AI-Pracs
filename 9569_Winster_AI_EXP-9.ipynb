{
 "cells": [
  {
   "cell_type": "code",
   "execution_count": null,
   "id": "6b6d618f-efea-4056-8a38-d36b760f1faf",
   "metadata": {},
   "outputs": [
    {
     "name": "stdout",
     "output_type": "stream",
     "text": [
      "Welcome to the computer hardware diagnosis expert system.\n",
      "Please answer the following questions with yes or no.\n",
      "\n"
     ]
    }
   ],
   "source": [
    "# Define symptoms for various hardware issues\n",
    "symptoms = {\n",
    "    'power_issue': ['no_power', 'flickering_display', 'overheating'],\n",
    "    'display_issue': ['no_display', 'distorted_display', 'flickering_display'],\n",
    "    'memory_issue': ['system_freezes', 'slow_performance', 'blue_screen_errors'],\n",
    "    'storage_issue': ['unable_to_boot', 'frequent_crashes', 'slow_file_access']\n",
    "}\n",
    "\n",
    "# Define hardware component names\n",
    "hardware_components = {\n",
    "    'power_issue': 'Power Supply',\n",
    "    'display_issue': 'Display',\n",
    "    'memory_issue': 'Memory',\n",
    "    'storage_issue': 'Storage Device'\n",
    "}\n",
    "\n",
    "def ask(symptom):\n",
    "    \"\"\"Ask the user about a symptom and return their response.\"\"\"\n",
    "    response = input(f\"Are you experiencing {symptom}? (yes/no) \")\n",
    "    return response.lower() == 'yes'\n",
    "\n",
    "def diagnose(issue):\n",
    "    \"\"\"Diagnose the user's hardware issue based on their symptoms.\"\"\"\n",
    "    symptoms_present = True\n",
    "    for symptom in symptoms[issue]:\n",
    "        if not ask(symptom):\n",
    "            symptoms_present = False\n",
    "            break\n",
    "\n",
    "    if symptoms_present:\n",
    "        print(f\"The issue is likely with the {hardware_components[issue]}.\\n\")\n",
    "    else:\n",
    "        print(f\"No issue with the {hardware_components[issue]}.\\n\")\n",
    "\n",
    "def start_diagnosis():\n",
    "    print(\"\\nWelcome to the computer hardware diagnosis expert system.\")\n",
    "    print(\"Please answer the following questions with yes or no.\\n\")\n",
    "\n",
    "    for issue in symptoms:\n",
    "        try:\n",
    "            diagnose(issue)\n",
    "        except KeyError:\n",
    "            print(\"I'm unable to diagnose the issue based on the symptoms provided.\")\n",
    "        except:\n",
    "            print(\"An error occurred during the diagnosis process.\")\n",
    "\n",
    "# Start the diagnosis\n",
    "start_diagnosis()"
   ]
  },
  {
   "cell_type": "code",
   "execution_count": null,
   "id": "62991af2-7ea3-4b14-92a5-9f444c70bd09",
   "metadata": {},
   "outputs": [],
   "source": []
  }
 ],
 "metadata": {
  "kernelspec": {
   "display_name": "Python 3 (ipykernel)",
   "language": "python",
   "name": "python3"
  },
  "language_info": {
   "codemirror_mode": {
    "name": "ipython",
    "version": 3
   },
   "file_extension": ".py",
   "mimetype": "text/x-python",
   "name": "python",
   "nbconvert_exporter": "python",
   "pygments_lexer": "ipython3",
   "version": "3.10.11"
  }
 },
 "nbformat": 4,
 "nbformat_minor": 5
}
