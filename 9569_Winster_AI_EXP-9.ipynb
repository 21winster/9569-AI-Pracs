{
 "cells": [
  {
   "cell_type": "code",
   "execution_count": null,
   "id": "edd8a6eb-becf-43e0-a2a4-412c843355e1",
   "metadata": {},
   "outputs": [],
   "source": [
    "EXPERIMENT NO 9"
   ]
  },
  {
   "cell_type": "code",
   "execution_count": null,
   "id": "253a2731-c453-43ad-baac-e2591eebbef4",
   "metadata": {},
   "outputs": [],
   "source": [
    "Name: Winster Pereira\n",
    "Class : TE COMPS - A\n",
    "Roll No : 9569 "
   ]
  },
  {
   "cell_type": "code",
   "execution_count": null,
   "id": "79d1f8e9-0f38-4ad4-b86f-70516b61c1ac",
   "metadata": {},
   "outputs": [],
   "source": [
    "Simple prototype for Expert System"
   ]
  },
  {
   "cell_type": "code",
   "execution_count": 1,
   "id": "6b6d618f-efea-4056-8a38-d36b760f1faf",
   "metadata": {},
   "outputs": [
    {
     "name": "stdout",
     "output_type": "stream",
     "text": [
      "\n",
      "Welcome to the computer hardware diagnosis expert system.\n",
      "Please answer the following questions with yes or no.\n",
      "\n"
     ]
    },
    {
     "name": "stdin",
     "output_type": "stream",
     "text": [
      "Are you experiencing no_power? (yes/no)  yes\n",
      "Are you experiencing flickering_display? (yes/no)  yes\n",
      "Are you experiencing overheating? (yes/no)  yes\n"
     ]
    },
    {
     "name": "stdout",
     "output_type": "stream",
     "text": [
      "The issue is likely with the Power Supply.\n",
      "\n"
     ]
    },
    {
     "name": "stdin",
     "output_type": "stream",
     "text": [
      "Are you experiencing no_display? (yes/no)  yes\n",
      "Are you experiencing distorted_display? (yes/no)  yes\n",
      "Are you experiencing flickering_display? (yes/no)  no\n"
     ]
    },
    {
     "name": "stdout",
     "output_type": "stream",
     "text": [
      "No issue with the Display.\n",
      "\n"
     ]
    },
    {
     "name": "stdin",
     "output_type": "stream",
     "text": [
      "Are you experiencing system_freezes? (yes/no)  yes\n",
      "Are you experiencing slow_performance? (yes/no)  no\n"
     ]
    },
    {
     "name": "stdout",
     "output_type": "stream",
     "text": [
      "No issue with the Memory.\n",
      "\n"
     ]
    },
    {
     "name": "stdin",
     "output_type": "stream",
     "text": [
      "Are you experiencing unable_to_boot? (yes/no)  no\n"
     ]
    },
    {
     "name": "stdout",
     "output_type": "stream",
     "text": [
      "No issue with the Storage Device.\n",
      "\n"
     ]
    }
   ],
   "source": [
    "# Define symptoms for various hardware issues\n",
    "symptoms = {\n",
    "    'power_issue': ['no_power', 'flickering_display', 'overheating'],\n",
    "    'display_issue': ['no_display', 'distorted_display', 'flickering_display'],\n",
    "    'memory_issue': ['system_freezes', 'slow_performance', 'blue_screen_errors'],\n",
    "    'storage_issue': ['unable_to_boot', 'frequent_crashes', 'slow_file_access']\n",
    "}\n",
    "\n",
    "# Define hardware component names\n",
    "hardware_components = {\n",
    "    'power_issue': 'Power Supply',\n",
    "    'display_issue': 'Display',\n",
    "    'memory_issue': 'Memory',\n",
    "    'storage_issue': 'Storage Device'\n",
    "}\n",
    "\n",
    "def ask(symptom):\n",
    "    \"\"\"Ask the user about a symptom and return their response.\"\"\"\n",
    "    response = input(f\"Are you experiencing {symptom}? (yes/no) \")\n",
    "    return response.lower() == 'yes'\n",
    "\n",
    "def diagnose(issue):\n",
    "    \"\"\"Diagnose the user's hardware issue based on their symptoms.\"\"\"\n",
    "    symptoms_present = True\n",
    "    for symptom in symptoms[issue]:\n",
    "        if not ask(symptom):\n",
    "            symptoms_present = False\n",
    "            break\n",
    "\n",
    "    if symptoms_present:\n",
    "        print(f\"The issue is likely with the {hardware_components[issue]}.\\n\")\n",
    "    else:\n",
    "        print(f\"No issue with the {hardware_components[issue]}.\\n\")\n",
    "\n",
    "def start_diagnosis():\n",
    "    print(\"\\nWelcome to the computer hardware diagnosis expert system.\")\n",
    "    print(\"Please answer the following questions with yes or no.\\n\")\n",
    "\n",
    "    for issue in symptoms:\n",
    "        try:\n",
    "            diagnose(issue)\n",
    "        except KeyError:\n",
    "            print(\"I'm unable to diagnose the issue based on the symptoms provided.\")\n",
    "        except:\n",
    "            print(\"An error occurred during the diagnosis process.\")\n",
    "\n",
    "# Start the diagnosis\n",
    "start_diagnosis()"
   ]
  }
 ],
 "metadata": {
  "kernelspec": {
   "display_name": "Python 3 (ipykernel)",
   "language": "python",
   "name": "python3"
  },
  "language_info": {
   "codemirror_mode": {
    "name": "ipython",
    "version": 3
   },
   "file_extension": ".py",
   "mimetype": "text/x-python",
   "name": "python",
   "nbconvert_exporter": "python",
   "pygments_lexer": "ipython3",
   "version": "3.10.11"
  }
 },
 "nbformat": 4,
 "nbformat_minor": 5
}
