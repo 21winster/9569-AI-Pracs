{
 "cells": [
  {
   "cell_type": "code",
   "execution_count": null,
   "id": "7367665a-a4f5-481f-a974-d5599bdb9f57",
   "metadata": {},
   "outputs": [],
   "source": [
    "EXPERIMENT NO 1"
   ]
  },
  {
   "cell_type": "code",
   "execution_count": null,
   "id": "5ab392b1-bdd8-4e33-bc15-7b64d18a34a2",
   "metadata": {},
   "outputs": [],
   "source": [
    "Name: Winster Pereira\n",
    "Class : TE COMPS - A\n",
    "Roll No : 9569"
   ]
  },
  {
   "cell_type": "code",
   "execution_count": null,
   "id": "26e7ce9a-cc71-4706-93b1-003331602ae7",
   "metadata": {},
   "outputs": [],
   "source": [
    "A] Brute Force Approach "
   ]
  },
  {
   "cell_type": "code",
   "execution_count": 1,
   "id": "cb46d3f8-eb60-4f80-b89c-e985a0a095cb",
   "metadata": {},
   "outputs": [
    {
     "name": "stdout",
     "output_type": "stream",
     "text": [
      "Game started\n",
      "  |   |  \n",
      "---------\n",
      "  |   |  \n",
      "---------\n",
      "  |   |  \n",
      "Player turn\n"
     ]
    },
    {
     "name": "stdin",
     "output_type": "stream",
     "text": [
      "Enter a position (1-9)  4\n"
     ]
    },
    {
     "name": "stdout",
     "output_type": "stream",
     "text": [
      "  |   |  \n",
      "---------\n",
      "X |   |  \n",
      "---------\n",
      "  |   |  \n",
      "Computer turn\n",
      "O |   |  \n",
      "---------\n",
      "X |   |  \n",
      "---------\n",
      "  |   |  \n",
      "Player turn\n"
     ]
    },
    {
     "name": "stdin",
     "output_type": "stream",
     "text": [
      "Enter a position (1-9)  2\n"
     ]
    },
    {
     "name": "stdout",
     "output_type": "stream",
     "text": [
      "O | X |  \n",
      "---------\n",
      "X |   |  \n",
      "---------\n",
      "  |   |  \n",
      "Computer turn\n",
      "O | X |  \n",
      "---------\n",
      "X |   |  \n",
      "---------\n",
      "  |   | O\n",
      "Player turn\n"
     ]
    },
    {
     "name": "stdin",
     "output_type": "stream",
     "text": [
      "Enter a position (1-9)  6\n"
     ]
    },
    {
     "name": "stdout",
     "output_type": "stream",
     "text": [
      "O | X |  \n",
      "---------\n",
      "X |   | X\n",
      "---------\n",
      "  |   | O\n",
      "Computer turn\n",
      "O | X |  \n",
      "---------\n",
      "X | O | X\n",
      "---------\n",
      "  |   | O\n",
      "Computer won\n",
      "Game ended\n"
     ]
    }
   ],
   "source": [
    "import random\n",
    "\n",
    "board = [' ' for x in range(9)]\n",
    "def main():\n",
    "    print('Game started')\n",
    "    print_board()\n",
    "    game_end = False\n",
    "    while not game_end:\n",
    "        print('Player turn')\n",
    "        player_turn()\n",
    "        print_board()\n",
    "        if check_winner(board):\n",
    "            print('Player won')\n",
    "            game_end = True\n",
    "            break\n",
    "\n",
    "        print('Computer turn')\n",
    "        computer_move = computer_turn()\n",
    "        if computer_move != -1:\n",
    "            board[computer_move] = 'O'\n",
    "            print_board()\n",
    "            if check_winner(board):\n",
    "                print('Computer won')\n",
    "                game_end = True\n",
    "                break\n",
    "\n",
    "        if board.count(' ') < 1:\n",
    "            print('Tie game')\n",
    "            game_end = True\n",
    "\n",
    "    print('Game ended')\n",
    "\n",
    "def print_board():\n",
    "    print(board[0] + ' | ' + board[1] + ' | ' + board[2])\n",
    "    print('---------')\n",
    "    print(board[3] + ' | ' + board[4] + ' | ' + board[5])\n",
    "    print('---------')\n",
    "    print(board[6] + ' | ' + board[7] + ' | ' + board[8])\n",
    "\n",
    "def check_winner(board):\n",
    "    if ((board[0] == board[1] == board[2] != ' ') or\n",
    "        (board[3] == board[4] == board[5] != ' ') or\n",
    "        (board[6] == board[7] == board[8] != ' ')):\n",
    "        return True\n",
    "\n",
    "    if ((board[0] == board[3] == board[6] != ' ') or\n",
    "        (board[1] == board[4] == board[7] != ' ') or\n",
    "        (board[2] == board[5] == board[8] != ' ')):\n",
    "        return True\n",
    "\n",
    "    if ((board[0] == board[4] == board[8] != ' ') or\n",
    "        (board[2] == board[4] == board[6] != ' ')):\n",
    "        return True\n",
    "\n",
    "    return False\n",
    "\n",
    "def player_turn():\n",
    "    made_move = False\n",
    "    while not made_move:\n",
    "        player_input = input('Enter a position (1-9) ')\n",
    "        try:\n",
    "            player_move = int(player_input)\n",
    "            if player_move < 1 or player_move > 9:\n",
    "                print('Enter a valid position')\n",
    "            else:\n",
    "                player_position = player_move - 1 # player index in board\n",
    "                if board[player_position] != ' ':\n",
    "                    print('Position is already taken')\n",
    "                else:\n",
    "                    board[player_position] = 'X'\n",
    "                    made_move = True\n",
    "\n",
    "        except:\n",
    "            print('Enter a valid number')\n",
    "\n",
    "\n",
    "def computer_turn():\n",
    "\n",
    "    available_moves = [pos for pos, value in enumerate(board) if value == ' ']\n",
    "\n",
    "    move = -1\n",
    "\n",
    "\n",
    "\n",
    "    for i in available_moves:\n",
    "        new_board = board[:]\n",
    "        new_board[i] = 'O'\n",
    "        if check_winner(new_board):\n",
    "            move = i\n",
    "            return move\n",
    "\n",
    "    for i in available_moves:\n",
    "        new_board = board[:]\n",
    "        new_board[i] = 'X'\n",
    "        if check_winner(new_board):\n",
    "            move = i\n",
    "            return move\n",
    "\n",
    "    avalable_corners = []\n",
    "    for i in available_moves:\n",
    "        if i in [0, 2, 6, 8]:\n",
    "            avalable_corners.append(i)\n",
    "\n",
    "    if len(avalable_corners) > 0:\n",
    "        random_index = random.randrange(0, len(avalable_corners))\n",
    "        move = avalable_corners[random_index]\n",
    "        return move\n",
    "\n",
    "    if 4 in available_moves:\n",
    "        move = 4\n",
    "        return move\n",
    "\n",
    "    avalable_edges = []\n",
    "    for i in available_moves:\n",
    "        if i in [1, 3, 5, 7]:\n",
    "            avalable_edges.append(i)\n",
    "\n",
    "    if len(avalable_edges) > 0:\n",
    "        random_index = random.randrange(0, len(avalable_edges))\n",
    "        move = avalable_edges[random_index]\n",
    "        return move\n",
    "\n",
    "    return move\n",
    "    \n",
    "if __name__ == '__main__':\n",
    "\n",
    "    main()"
   ]
  },
  {
   "cell_type": "code",
   "execution_count": null,
   "id": "055586ab-8b44-4fb5-ad04-7195ed1f265e",
   "metadata": {},
   "outputs": [],
   "source": [
    "B] Heuristic Approach"
   ]
  },
  {
   "cell_type": "code",
   "execution_count": 1,
   "id": "df5e2164-208c-400f-be7b-27575879bab3",
   "metadata": {},
   "outputs": [
    {
     "name": "stdout",
     "output_type": "stream",
     "text": [
      "| 0 | 1 | 2 |\n",
      "| 3 | 4 | 5 |\n",
      "| 6 | 7 | 8 |\n"
     ]
    },
    {
     "name": "stdin",
     "output_type": "stream",
     "text": [
      "X's turn. Input move (0-8):  2\n"
     ]
    },
    {
     "name": "stdout",
     "output_type": "stream",
     "text": [
      "X makes a move to square 2\n",
      "|   |   | X |\n",
      "|   |   |   |\n",
      "|   |   |   |\n",
      "\n",
      "O makes a move to square 7\n",
      "|   |   | X |\n",
      "|   |   |   |\n",
      "|   | O |   |\n",
      "\n"
     ]
    },
    {
     "name": "stdin",
     "output_type": "stream",
     "text": [
      "X's turn. Input move (0-8):  8\n"
     ]
    },
    {
     "name": "stdout",
     "output_type": "stream",
     "text": [
      "X makes a move to square 8\n",
      "|   |   | X |\n",
      "|   |   |   |\n",
      "|   | O | X |\n",
      "\n",
      "O makes a move to square 1\n",
      "|   | O | X |\n",
      "|   |   |   |\n",
      "|   | O | X |\n",
      "\n"
     ]
    },
    {
     "name": "stdin",
     "output_type": "stream",
     "text": [
      "X's turn. Input move (0-8):  3\n"
     ]
    },
    {
     "name": "stdout",
     "output_type": "stream",
     "text": [
      "X makes a move to square 3\n",
      "|   | O | X |\n",
      "| X |   |   |\n",
      "|   | O | X |\n",
      "\n",
      "O makes a move to square 5\n",
      "|   | O | X |\n",
      "| X |   | O |\n",
      "|   | O | X |\n",
      "\n"
     ]
    },
    {
     "name": "stdin",
     "output_type": "stream",
     "text": [
      "X's turn. Input move (0-8):  0\n"
     ]
    },
    {
     "name": "stdout",
     "output_type": "stream",
     "text": [
      "X makes a move to square 0\n",
      "| X | O | X |\n",
      "| X |   | O |\n",
      "|   | O | X |\n",
      "\n",
      "O makes a move to square 4\n",
      "| X | O | X |\n",
      "| X | O | O |\n",
      "|   | O | X |\n",
      "\n",
      "Computer wins!\n"
     ]
    }
   ],
   "source": [
    "import random\n",
    "\n",
    "class TicTacToe:\n",
    "    def __init__(self):\n",
    "        self.board = [' ' for _ in range(9)]  # Represents a 3x3 board\n",
    "        self.current_winner = None  # Tracks the winner (X, O, or None)\n",
    "\n",
    "    def print_board(self):\n",
    "        for row in [self.board[i:i + 3] for i in range(0, 9, 3)]:\n",
    "            print('| ' + ' | '.join(row) + ' |')\n",
    "\n",
    "    def print_board_nums(self):\n",
    "        board_nums = [str(i) for i in range(9)]\n",
    "        for row in [board_nums[i:i + 3] for i in range(0, 9, 3)]:\n",
    "            print('| ' + ' | '.join(row) + ' |')\n",
    "\n",
    "    def available_moves(self):\n",
    "        return [i for i, spot in enumerate(self.board) if spot == ' ']\n",
    "\n",
    "    def empty_squares(self):\n",
    "        return ' ' in self.board\n",
    "\n",
    "    def num_empty_squares(self):\n",
    "        return self.board.count(' ')\n",
    "\n",
    "    def make_move(self, square, letter):\n",
    "        if self.board[square] == ' ':\n",
    "            self.board[square] = letter\n",
    "            if self.winner(square, letter):\n",
    "                self.current_winner = letter\n",
    "            return True\n",
    "        return False\n",
    "\n",
    "    def winner(self, square, letter):\n",
    "        # Check row\n",
    "        row_ind = square // 3\n",
    "        row = self.board[row_ind*3:(row_ind+1)*3]\n",
    "        if all([spot == letter for spot in row]):\n",
    "            return True\n",
    "        # Check column\n",
    "        col_ind = square % 3\n",
    "        column = [self.board[col_ind+i*3] for i in range(3)]\n",
    "        if all([spot == letter for spot in column]):\n",
    "            return True\n",
    "        # Check diagonals\n",
    "        if square % 2 == 0:\n",
    "            diagonal1 = [self.board[i] for i in [0, 4, 8]]\n",
    "            if all([spot == letter for spot in diagonal1]):\n",
    "                return True\n",
    "            diagonal2 = [self.board[i] for i in [2, 4, 6]]\n",
    "            if all([spot == letter for spot in diagonal2]):\n",
    "                return True\n",
    "        return False\n",
    "\n",
    " \n",
    "\n",
    "class HumanPlayer:\n",
    "    def __init__(self, letter):\n",
    "        self.letter = letter\n",
    "\n",
    "    def get_move(self, game):\n",
    "        valid_square = False\n",
    "        square = None\n",
    "        while not valid_square:\n",
    "            square = input(self.letter + '\\'s turn. Input move (0-8): ')\n",
    "            try:\n",
    "                square = int(square)\n",
    "                if square not in game.available_moves():\n",
    "                    raise ValueError\n",
    "                valid_square = True\n",
    "            except ValueError:\n",
    "                print('Invalid square. Try again.')\n",
    "        return square\n",
    "\n",
    "class RandomComputerPlayer:\n",
    "    def __init__(self, letter):\n",
    "        self.letter = letter\n",
    "\n",
    "    def get_move(self, game):\n",
    "        square = random.choice(game.available_moves())\n",
    "        return square\n",
    "\n",
    "def play(game, x_player, o_player, print_game=True):\n",
    "    if print_game:\n",
    "        game.print_board_nums()\n",
    "\n",
    "    letter = 'X' \n",
    "    while game.empty_squares():\n",
    "        if letter == 'O':\n",
    "            square = o_player.get_move(game)\n",
    "        else:\n",
    "            square = x_player.get_move(game)\n",
    "\n",
    "        if game.make_move(square, letter):\n",
    "            if print_game:\n",
    "                print(letter + f' makes a move to square {square}')\n",
    "                game.print_board()\n",
    "                print('')  # Empty line\n",
    "\n",
    "            if game.current_winner:\n",
    "                if print_game:\n",
    "                    if game.current_winner == 'O':\n",
    "                        print('Computer wins!')\n",
    "                    else:\n",
    "                        print(letter + ' wins!')\n",
    "                return game.current_winner  \n",
    "\n",
    "            letter = 'O' if letter == 'X' else 'X'  \n",
    "\n",
    "if __name__ == '__main__':\n",
    "    x_player = HumanPlayer('X')\n",
    "    o_player = RandomComputerPlayer('O')\n",
    "    t = TicTacToe()\n",
    "    play(t, x_player, o_player, print_game=True)"
   ]
  }
 ],
 "metadata": {
  "kernelspec": {
   "display_name": "Python 3 (ipykernel)",
   "language": "python",
   "name": "python3"
  },
  "language_info": {
   "codemirror_mode": {
    "name": "ipython",
    "version": 3
   },
   "file_extension": ".py",
   "mimetype": "text/x-python",
   "name": "python",
   "nbconvert_exporter": "python",
   "pygments_lexer": "ipython3",
   "version": "3.10.11"
  }
 },
 "nbformat": 4,
 "nbformat_minor": 5
}
